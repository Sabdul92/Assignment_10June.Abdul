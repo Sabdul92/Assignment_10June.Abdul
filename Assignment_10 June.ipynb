{
 "cells": [
  {
   "cell_type": "code",
   "execution_count": null,
   "id": "540d43bb-50d3-4e04-b64a-4a567fbbe10b",
   "metadata": {},
   "outputs": [],
   "source": [
    "Q.1.) In Python, what is the difference between a built-in function and a user-defined function? \n",
    "Provide an example of each.\n",
    "\n",
    "Ans.:-Functions that readily come with Python are called built-in functions. If we use functions written by others in the form \n",
    "of library,it can be termed as library functions. All the other functions that we write on our own fall under\n",
    "user-defined functions.\n"
   ]
  },
  {
   "cell_type": "code",
   "execution_count": null,
   "id": "8da18940-8820-4165-bddf-8d8f335aacbe",
   "metadata": {},
   "outputs": [],
   "source": [
    "Q.2) How can you pass arguments to a function in Python? Explain the difference between positional\n",
    "arguments and keyword arguments.\n",
    "\n",
    "Ans:-Information can be passed into functions as arguments. Arguments are specified after the function name, \n",
    "inside the parentheses.You can add as many arguments as you want, just separate them with a comma.\n",
    "\n",
    "On using keyword arguments you will get the correct output because the order of argument doesn't matter provided\n",
    "the logic of your code is correct. But in the case of positional arguments, you will get more than one output on \n",
    "changing the order of the arguments."
   ]
  },
  {
   "cell_type": "code",
   "execution_count": null,
   "id": "4b6ccb2f-76b9-4d6e-9eee-13eee7cc301d",
   "metadata": {},
   "outputs": [],
   "source": [
    "Q.3) What is the purpose of the return statement in a function? Can a function have multiple return\n",
    "statements? Explain with an example.\n",
    "\n",
    "Answer. A return statement ends the processing of the current function and returns control to the caller of the function.\n",
    "A method can have multiple return statements but only one of them will be executed because once a return statement is executed,\n",
    "the program control moves back to the caller method skipping the remaining statements of the current method.\n",
    "\n",
    "try:\n",
    "    n = int(input(\"Enter the 1st no.:\"))\n",
    "    d = int(input(\"Enter the 2nd no.:\"))\n",
    "\n",
    "    result = n / d\n",
    "    print(\"results\", result)\n",
    "    \n",
    "except ZeroDivisionError :\n",
    "    print(\"You have divided the number by zero\")\n",
    "    \n",
    "except ValueError:\n",
    "    print(\"its an integer but you enter float\")\n",
    "\n",
    "********************************************************\n",
    "# OutPut\n",
    "Enter the 1st no.: 5\n",
    "Enter the 2nd no.: 1.2\n",
    "its an integer but you enter float"
   ]
  },
  {
   "cell_type": "code",
   "execution_count": null,
   "id": "5d010e80-f33c-4e66-94e6-b0145c155c10",
   "metadata": {},
   "outputs": [],
   "source": [
    "Q.4) What are lambda functions in Python? How are they different from regular functions? Provide an\n",
    "example where a lambda function can be useful.\n",
    "\n",
    "Ans:- A lambda function is a small anonymous function. A lambda function can take any number of arguments, \n",
    "but can only have one expression.\n",
    "A lambda function is an anonymous function (i.e., defined without a name) that can take any number of arguments but,\n",
    "unlike normal functions, evaluates and returns only one expression. Note that, unlike a normal function, \n",
    "we don't surround the parameters of a lambda function with parentheses."
   ]
  },
  {
   "cell_type": "code",
   "execution_count": null,
   "id": "b67d78a6-4dfe-43a3-b5bd-8102680170de",
   "metadata": {},
   "outputs": [],
   "source": [
    "Q.5) How does the concept of \"scope\" apply to functions in Python? Explain the difference between local\n",
    "scope and global scope.\n",
    "\n",
    "Ans:- Local (or function) scope is the code block or body of any Python function or lambda expression.\n",
    "This Python scope contains the names that you define inside the function. These names will only be visible \n",
    "from the code of the function.\n",
    "Python Global variables are those which are not defined inside any function and have a global scope whereas \n",
    "Python local variables are those which are defined inside a function and their scope is limited to that function only."
   ]
  },
  {
   "cell_type": "code",
   "execution_count": null,
   "id": "690e4db3-1b26-4a05-bf57-e2099e364fd3",
   "metadata": {},
   "outputs": [],
   "source": [
    "Q.6) How can you use the \"return\" statement in a Python function to return multiple values?\n",
    "\n",
    "Ans:- In this method, we use Python to return multiple values by simply separating them by commas. Python basically uses\n",
    "a tuple to achieve this. A common confusion here is that the syntax of tuple requires a pair of brackets ().\n",
    "\n",
    "You can use a return statement to return multiple values from a function. To do that, you just need to supply \n",
    "several return values separated by commas."
   ]
  },
  {
   "cell_type": "code",
   "execution_count": null,
   "id": "d23693c1-6852-4998-b557-b7c895ca7df8",
   "metadata": {},
   "outputs": [],
   "source": [
    "Q.7) What is the difference between the \"pass by value\" and \"pass by reference\" concepts when it\n",
    "comes to function arguments in Python?\n",
    "\n",
    "Ans:- Pass by value refers to a mechanism of copying the function parameter value to another variable\n",
    "while the pass by reference refers to a mechanism of passing the actual parameters to the function.\n",
    "Thus, this is the main difference between pass by value and pass by reference."
   ]
  },
  {
   "cell_type": "code",
   "execution_count": 13,
   "id": "c1ac7939-8f76-44ad-bb9c-f3ae6dfbe92c",
   "metadata": {},
   "outputs": [
    {
     "name": "stdout",
     "output_type": "stream",
     "text": [
      "The value of log 2 with base 3 is : 0.6309297535714574\n",
      "The e**4 value is : 54.598150033144236\n",
      "25\n"
     ]
    }
   ],
   "source": [
    "Q.8) Create a function that can intake integer or decimal value and do following operations:\n",
    "a. Logarithmic function (log x)\n",
    "b. Exponential function (exp(x))\n",
    "c. Power function with base 2 (2x)\n",
    "d. Square root\n",
    "\n",
    "\n",
    "import math\n",
    "# returning the log of 2,3\n",
    "print (\"The value of log 2 with base 3 is : \", end=\"\")\n",
    "print (math.log(2,3))\n",
    "\n",
    "# returning the exp of 4\n",
    "print (\"The e**4 value is : \", end=\"\")\n",
    "print (math.exp(4))\n",
    "\n",
    "square = lambda x: x ** 2\n",
    "print(square(5))"
   ]
  },
  {
   "cell_type": "code",
   "execution_count": 6,
   "id": "9a959e50-37d4-4d4e-af8c-d879d95ee0a3",
   "metadata": {},
   "outputs": [
    {
     "name": "stdout",
     "output_type": "stream",
     "text": [
      "John ibrahim\n"
     ]
    }
   ],
   "source": [
    "Q.9) Create a function that takes a full name as an argument and returns first name and last name.\n",
    "\n",
    "Ans:-\n",
    "\n",
    "def full_name(first_name, last_name = ' '):\n",
    "      print(first_name, last_name)\n",
    "\n",
    "full_name(\"John\", \"ibrahim\") "
   ]
  }
 ],
 "metadata": {
  "kernelspec": {
   "display_name": "Python 3 (ipykernel)",
   "language": "python",
   "name": "python3"
  },
  "language_info": {
   "codemirror_mode": {
    "name": "ipython",
    "version": 3
   },
   "file_extension": ".py",
   "mimetype": "text/x-python",
   "name": "python",
   "nbconvert_exporter": "python",
   "pygments_lexer": "ipython3",
   "version": "3.10.6"
  }
 },
 "nbformat": 4,
 "nbformat_minor": 5
}
